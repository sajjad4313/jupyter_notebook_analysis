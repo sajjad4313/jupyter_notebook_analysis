{
 "cells": [
  {
   "cell_type": "code",
   "execution_count": 1,
   "id": "fcc7ea3b",
   "metadata": {},
   "outputs": [],
   "source": [
    "import numpy as np\n",
    "import pandas as pd\n",
    "import matplotlib.pyplot as plt\n",
    "get_ipython().run_line_magic('matplotlib', 'inline')\n",
    "import seaborn as sns\n",
    "from scipy import stats"
   ]
  },
  {
   "cell_type": "code",
   "execution_count": 2,
   "id": "e94062c4",
   "metadata": {
    "scrolled": false
   },
   "outputs": [
    {
     "data": {
      "text/html": [
       "<div>\n",
       "<style scoped>\n",
       "    .dataframe tbody tr th:only-of-type {\n",
       "        vertical-align: middle;\n",
       "    }\n",
       "\n",
       "    .dataframe tbody tr th {\n",
       "        vertical-align: top;\n",
       "    }\n",
       "\n",
       "    .dataframe thead th {\n",
       "        text-align: right;\n",
       "    }\n",
       "</style>\n",
       "<table border=\"1\" class=\"dataframe\">\n",
       "  <thead>\n",
       "    <tr style=\"text-align: right;\">\n",
       "      <th></th>\n",
       "      <th>Accident_Index</th>\n",
       "      <th>Location_Easting_OSGR</th>\n",
       "      <th>Location_Northing_OSGR</th>\n",
       "      <th>Longitude</th>\n",
       "      <th>Latitude</th>\n",
       "      <th>Police_Force</th>\n",
       "      <th>Accident_Severity</th>\n",
       "      <th>Number_of_Vehicles</th>\n",
       "      <th>Number_of_Casualties</th>\n",
       "      <th>Date</th>\n",
       "      <th>...</th>\n",
       "      <th>Pedestrian_Crossing-Physical_Facilities</th>\n",
       "      <th>Light_Conditions</th>\n",
       "      <th>Weather_Conditions</th>\n",
       "      <th>Road_Surface_Conditions</th>\n",
       "      <th>Special_Conditions_at_Site</th>\n",
       "      <th>Carriageway_Hazards</th>\n",
       "      <th>Urban_or_Rural_Area</th>\n",
       "      <th>Did_Police_Officer_Attend_Scene_of_Accident</th>\n",
       "      <th>LSOA_of_Accident_Location</th>\n",
       "      <th>Year</th>\n",
       "    </tr>\n",
       "  </thead>\n",
       "  <tbody>\n",
       "    <tr>\n",
       "      <th>0</th>\n",
       "      <td>201201BS70001</td>\n",
       "      <td>527200</td>\n",
       "      <td>178760</td>\n",
       "      <td>-0.169101</td>\n",
       "      <td>51.493429</td>\n",
       "      <td>1</td>\n",
       "      <td>3</td>\n",
       "      <td>2</td>\n",
       "      <td>1</td>\n",
       "      <td>19/01/2012</td>\n",
       "      <td>...</td>\n",
       "      <td>Pedestrian phase at traffic signal junction</td>\n",
       "      <td>Darkness: Street lights present and lit</td>\n",
       "      <td>Fine without high winds</td>\n",
       "      <td>Dry</td>\n",
       "      <td>NaN</td>\n",
       "      <td>NaN</td>\n",
       "      <td>1</td>\n",
       "      <td>Yes</td>\n",
       "      <td>E01002821</td>\n",
       "      <td>2012</td>\n",
       "    </tr>\n",
       "    <tr>\n",
       "      <th>1</th>\n",
       "      <td>201201BS70002</td>\n",
       "      <td>524930</td>\n",
       "      <td>181430</td>\n",
       "      <td>-0.200838</td>\n",
       "      <td>51.517931</td>\n",
       "      <td>1</td>\n",
       "      <td>3</td>\n",
       "      <td>2</td>\n",
       "      <td>1</td>\n",
       "      <td>4/1/2012</td>\n",
       "      <td>...</td>\n",
       "      <td>No physical crossing within 50 meters</td>\n",
       "      <td>Darkness: Street lights present and lit</td>\n",
       "      <td>Fine without high winds</td>\n",
       "      <td>Dry</td>\n",
       "      <td>NaN</td>\n",
       "      <td>NaN</td>\n",
       "      <td>1</td>\n",
       "      <td>Yes</td>\n",
       "      <td>E01004760</td>\n",
       "      <td>2012</td>\n",
       "    </tr>\n",
       "    <tr>\n",
       "      <th>2</th>\n",
       "      <td>201201BS70003</td>\n",
       "      <td>525860</td>\n",
       "      <td>178080</td>\n",
       "      <td>-0.188636</td>\n",
       "      <td>51.487618</td>\n",
       "      <td>1</td>\n",
       "      <td>3</td>\n",
       "      <td>2</td>\n",
       "      <td>1</td>\n",
       "      <td>10/1/2012</td>\n",
       "      <td>...</td>\n",
       "      <td>non-junction pedestrian crossing</td>\n",
       "      <td>Daylight: Street light present</td>\n",
       "      <td>Fine without high winds</td>\n",
       "      <td>Dry</td>\n",
       "      <td>NaN</td>\n",
       "      <td>NaN</td>\n",
       "      <td>1</td>\n",
       "      <td>Yes</td>\n",
       "      <td>E01002893</td>\n",
       "      <td>2012</td>\n",
       "    </tr>\n",
       "    <tr>\n",
       "      <th>3</th>\n",
       "      <td>201201BS70004</td>\n",
       "      <td>524980</td>\n",
       "      <td>181030</td>\n",
       "      <td>-0.200259</td>\n",
       "      <td>51.514325</td>\n",
       "      <td>1</td>\n",
       "      <td>3</td>\n",
       "      <td>1</td>\n",
       "      <td>1</td>\n",
       "      <td>18/01/2012</td>\n",
       "      <td>...</td>\n",
       "      <td>No physical crossing within 50 meters</td>\n",
       "      <td>Daylight: Street light present</td>\n",
       "      <td>Fine without high winds</td>\n",
       "      <td>Dry</td>\n",
       "      <td>NaN</td>\n",
       "      <td>NaN</td>\n",
       "      <td>1</td>\n",
       "      <td>Yes</td>\n",
       "      <td>E01002886</td>\n",
       "      <td>2012</td>\n",
       "    </tr>\n",
       "    <tr>\n",
       "      <th>4</th>\n",
       "      <td>201201BS70005</td>\n",
       "      <td>526170</td>\n",
       "      <td>179200</td>\n",
       "      <td>-0.183773</td>\n",
       "      <td>51.497614</td>\n",
       "      <td>1</td>\n",
       "      <td>3</td>\n",
       "      <td>1</td>\n",
       "      <td>1</td>\n",
       "      <td>17/01/2012</td>\n",
       "      <td>...</td>\n",
       "      <td>No physical crossing within 50 meters</td>\n",
       "      <td>Darkness: Street lights present and lit</td>\n",
       "      <td>Fine without high winds</td>\n",
       "      <td>Dry</td>\n",
       "      <td>NaN</td>\n",
       "      <td>NaN</td>\n",
       "      <td>1</td>\n",
       "      <td>Yes</td>\n",
       "      <td>E01002890</td>\n",
       "      <td>2012</td>\n",
       "    </tr>\n",
       "  </tbody>\n",
       "</table>\n",
       "<p>5 rows × 32 columns</p>\n",
       "</div>"
      ],
      "text/plain": [
       "  Accident_Index  Location_Easting_OSGR  Location_Northing_OSGR  Longitude  \\\n",
       "0  201201BS70001                 527200                  178760  -0.169101   \n",
       "1  201201BS70002                 524930                  181430  -0.200838   \n",
       "2  201201BS70003                 525860                  178080  -0.188636   \n",
       "3  201201BS70004                 524980                  181030  -0.200259   \n",
       "4  201201BS70005                 526170                  179200  -0.183773   \n",
       "\n",
       "    Latitude  Police_Force  Accident_Severity  Number_of_Vehicles  \\\n",
       "0  51.493429             1                  3                   2   \n",
       "1  51.517931             1                  3                   2   \n",
       "2  51.487618             1                  3                   2   \n",
       "3  51.514325             1                  3                   1   \n",
       "4  51.497614             1                  3                   1   \n",
       "\n",
       "   Number_of_Casualties        Date  ...  \\\n",
       "0                     1  19/01/2012  ...   \n",
       "1                     1    4/1/2012  ...   \n",
       "2                     1   10/1/2012  ...   \n",
       "3                     1  18/01/2012  ...   \n",
       "4                     1  17/01/2012  ...   \n",
       "\n",
       "       Pedestrian_Crossing-Physical_Facilities  \\\n",
       "0  Pedestrian phase at traffic signal junction   \n",
       "1        No physical crossing within 50 meters   \n",
       "2             non-junction pedestrian crossing   \n",
       "3        No physical crossing within 50 meters   \n",
       "4        No physical crossing within 50 meters   \n",
       "\n",
       "                          Light_Conditions       Weather_Conditions  \\\n",
       "0  Darkness: Street lights present and lit  Fine without high winds   \n",
       "1  Darkness: Street lights present and lit  Fine without high winds   \n",
       "2           Daylight: Street light present  Fine without high winds   \n",
       "3           Daylight: Street light present  Fine without high winds   \n",
       "4  Darkness: Street lights present and lit  Fine without high winds   \n",
       "\n",
       "  Road_Surface_Conditions  Special_Conditions_at_Site  Carriageway_Hazards  \\\n",
       "0                     Dry                         NaN                  NaN   \n",
       "1                     Dry                         NaN                  NaN   \n",
       "2                     Dry                         NaN                  NaN   \n",
       "3                     Dry                         NaN                  NaN   \n",
       "4                     Dry                         NaN                  NaN   \n",
       "\n",
       "  Urban_or_Rural_Area  Did_Police_Officer_Attend_Scene_of_Accident  \\\n",
       "0                   1                                          Yes   \n",
       "1                   1                                          Yes   \n",
       "2                   1                                          Yes   \n",
       "3                   1                                          Yes   \n",
       "4                   1                                          Yes   \n",
       "\n",
       "  LSOA_of_Accident_Location  Year  \n",
       "0                 E01002821  2012  \n",
       "1                 E01004760  2012  \n",
       "2                 E01002893  2012  \n",
       "3                 E01002886  2012  \n",
       "4                 E01002890  2012  \n",
       "\n",
       "[5 rows x 32 columns]"
      ]
     },
     "execution_count": 2,
     "metadata": {},
     "output_type": "execute_result"
    }
   ],
   "source": [
    "df=pd.read_csv(\"pro1.csv\")\n",
    "df.head(5)"
   ]
  },
  {
   "cell_type": "code",
   "execution_count": 3,
   "id": "2483b429",
   "metadata": {},
   "outputs": [
    {
     "data": {
      "text/plain": [
       "array(['Automatic traffic signal', 'Giveway or uncontrolled', nan,\n",
       "       'Authorised person', 'Stop Sign'], dtype=object)"
      ]
     },
     "execution_count": 3,
     "metadata": {},
     "output_type": "execute_result"
    }
   ],
   "source": [
    "df['Junction_Control'].unique()"
   ]
  },
  {
   "cell_type": "code",
   "execution_count": 4,
   "id": "950e2e55",
   "metadata": {
    "scrolled": true
   },
   "outputs": [
    {
     "data": {
      "text/plain": [
       "Accident_Index                                    0\n",
       "Location_Easting_OSGR                             0\n",
       "Location_Northing_OSGR                            0\n",
       "Longitude                                         0\n",
       "Latitude                                          0\n",
       "Police_Force                                      0\n",
       "Accident_Severity                                 0\n",
       "Number_of_Vehicles                                0\n",
       "Number_of_Casualties                              0\n",
       "Date                                              0\n",
       "Day_of_Week                                       0\n",
       "Time                                              0\n",
       "Local_Authority_(District)                        0\n",
       "Local_Authority_(Highway)                         0\n",
       "1st_Road_Class                                    0\n",
       "1st_Road_Number                                   0\n",
       "Road_Type                                         0\n",
       "Speed_limit                                       0\n",
       "Junction_Control                                388\n",
       "2nd_Road_Class                                    0\n",
       "2nd_Road_Number                                   0\n",
       "Pedestrian_Crossing-Human_Control                 0\n",
       "Pedestrian_Crossing-Physical_Facilities           0\n",
       "Light_Conditions                                  0\n",
       "Weather_Conditions                                0\n",
       "Road_Surface_Conditions                           0\n",
       "Special_Conditions_at_Site                     2017\n",
       "Carriageway_Hazards                            2014\n",
       "Urban_or_Rural_Area                               0\n",
       "Did_Police_Officer_Attend_Scene_of_Accident       0\n",
       "LSOA_of_Accident_Location                         0\n",
       "Year                                              0\n",
       "dtype: int64"
      ]
     },
     "execution_count": 4,
     "metadata": {},
     "output_type": "execute_result"
    }
   ],
   "source": [
    "df.isnull().sum()"
   ]
  },
  {
   "cell_type": "code",
   "execution_count": 5,
   "id": "5de30a17",
   "metadata": {},
   "outputs": [
    {
     "data": {
      "text/plain": [
       "(2043, 32)"
      ]
     },
     "execution_count": 5,
     "metadata": {},
     "output_type": "execute_result"
    }
   ],
   "source": [
    "df.shape"
   ]
  },
  {
   "cell_type": "code",
   "execution_count": 6,
   "id": "74a4926e",
   "metadata": {},
   "outputs": [],
   "source": [
    "df['Junction_Control']=df['Junction_Control'].fillna(method=\"ffill\")"
   ]
  },
  {
   "cell_type": "code",
   "execution_count": 7,
   "id": "76d7761c",
   "metadata": {
    "scrolled": true
   },
   "outputs": [
    {
     "data": {
      "text/plain": [
       "Accident_Index                                    0\n",
       "Location_Easting_OSGR                             0\n",
       "Location_Northing_OSGR                            0\n",
       "Longitude                                         0\n",
       "Latitude                                          0\n",
       "Police_Force                                      0\n",
       "Accident_Severity                                 0\n",
       "Number_of_Vehicles                                0\n",
       "Number_of_Casualties                              0\n",
       "Date                                              0\n",
       "Day_of_Week                                       0\n",
       "Time                                              0\n",
       "Local_Authority_(District)                        0\n",
       "Local_Authority_(Highway)                         0\n",
       "1st_Road_Class                                    0\n",
       "1st_Road_Number                                   0\n",
       "Road_Type                                         0\n",
       "Speed_limit                                       0\n",
       "Junction_Control                                  0\n",
       "2nd_Road_Class                                    0\n",
       "2nd_Road_Number                                   0\n",
       "Pedestrian_Crossing-Human_Control                 0\n",
       "Pedestrian_Crossing-Physical_Facilities           0\n",
       "Light_Conditions                                  0\n",
       "Weather_Conditions                                0\n",
       "Road_Surface_Conditions                           0\n",
       "Special_Conditions_at_Site                     2017\n",
       "Carriageway_Hazards                            2014\n",
       "Urban_or_Rural_Area                               0\n",
       "Did_Police_Officer_Attend_Scene_of_Accident       0\n",
       "LSOA_of_Accident_Location                         0\n",
       "Year                                              0\n",
       "dtype: int64"
      ]
     },
     "execution_count": 7,
     "metadata": {},
     "output_type": "execute_result"
    }
   ],
   "source": [
    "df.isnull().sum()"
   ]
  },
  {
   "cell_type": "code",
   "execution_count": 8,
   "id": "6e4e6919",
   "metadata": {},
   "outputs": [],
   "source": [
    "del df['Special_Conditions_at_Site']"
   ]
  },
  {
   "cell_type": "code",
   "execution_count": 9,
   "id": "7b6ea7a3",
   "metadata": {},
   "outputs": [],
   "source": [
    "del df['Carriageway_Hazards']"
   ]
  },
  {
   "cell_type": "code",
   "execution_count": 10,
   "id": "5f077625",
   "metadata": {},
   "outputs": [
    {
     "data": {
      "text/plain": [
       "Accident_Index                                 0\n",
       "Location_Easting_OSGR                          0\n",
       "Location_Northing_OSGR                         0\n",
       "Longitude                                      0\n",
       "Latitude                                       0\n",
       "Police_Force                                   0\n",
       "Accident_Severity                              0\n",
       "Number_of_Vehicles                             0\n",
       "Number_of_Casualties                           0\n",
       "Date                                           0\n",
       "Day_of_Week                                    0\n",
       "Time                                           0\n",
       "Local_Authority_(District)                     0\n",
       "Local_Authority_(Highway)                      0\n",
       "1st_Road_Class                                 0\n",
       "1st_Road_Number                                0\n",
       "Road_Type                                      0\n",
       "Speed_limit                                    0\n",
       "Junction_Control                               0\n",
       "2nd_Road_Class                                 0\n",
       "2nd_Road_Number                                0\n",
       "Pedestrian_Crossing-Human_Control              0\n",
       "Pedestrian_Crossing-Physical_Facilities        0\n",
       "Light_Conditions                               0\n",
       "Weather_Conditions                             0\n",
       "Road_Surface_Conditions                        0\n",
       "Urban_or_Rural_Area                            0\n",
       "Did_Police_Officer_Attend_Scene_of_Accident    0\n",
       "LSOA_of_Accident_Location                      0\n",
       "Year                                           0\n",
       "dtype: int64"
      ]
     },
     "execution_count": 10,
     "metadata": {},
     "output_type": "execute_result"
    }
   ],
   "source": [
    "df.isnull().sum()"
   ]
  },
  {
   "cell_type": "code",
   "execution_count": 11,
   "id": "a78a3a23",
   "metadata": {},
   "outputs": [
    {
     "name": "stdout",
     "output_type": "stream",
     "text": [
      "<class 'pandas.core.frame.DataFrame'>\n",
      "RangeIndex: 2043 entries, 0 to 2042\n",
      "Data columns (total 30 columns):\n",
      " #   Column                                       Non-Null Count  Dtype  \n",
      "---  ------                                       --------------  -----  \n",
      " 0   Accident_Index                               2043 non-null   object \n",
      " 1   Location_Easting_OSGR                        2043 non-null   int64  \n",
      " 2   Location_Northing_OSGR                       2043 non-null   int64  \n",
      " 3   Longitude                                    2043 non-null   float64\n",
      " 4   Latitude                                     2043 non-null   float64\n",
      " 5   Police_Force                                 2043 non-null   int64  \n",
      " 6   Accident_Severity                            2043 non-null   int64  \n",
      " 7   Number_of_Vehicles                           2043 non-null   int64  \n",
      " 8   Number_of_Casualties                         2043 non-null   int64  \n",
      " 9   Date                                         2043 non-null   object \n",
      " 10  Day_of_Week                                  2043 non-null   object \n",
      " 11  Time                                         2043 non-null   object \n",
      " 12  Local_Authority_(District)                   2043 non-null   int64  \n",
      " 13  Local_Authority_(Highway)                    2043 non-null   object \n",
      " 14  1st_Road_Class                               2043 non-null   int64  \n",
      " 15  1st_Road_Number                              2043 non-null   int64  \n",
      " 16  Road_Type                                    2043 non-null   object \n",
      " 17  Speed_limit                                  2043 non-null   int64  \n",
      " 18  Junction_Control                             2043 non-null   object \n",
      " 19  2nd_Road_Class                               2043 non-null   int64  \n",
      " 20  2nd_Road_Number                              2043 non-null   int64  \n",
      " 21  Pedestrian_Crossing-Human_Control            2043 non-null   object \n",
      " 22  Pedestrian_Crossing-Physical_Facilities      2043 non-null   object \n",
      " 23  Light_Conditions                             2043 non-null   object \n",
      " 24  Weather_Conditions                           2043 non-null   object \n",
      " 25  Road_Surface_Conditions                      2043 non-null   object \n",
      " 26  Urban_or_Rural_Area                          2043 non-null   int64  \n",
      " 27  Did_Police_Officer_Attend_Scene_of_Accident  2043 non-null   object \n",
      " 28  LSOA_of_Accident_Location                    2043 non-null   object \n",
      " 29  Year                                         2043 non-null   int64  \n",
      "dtypes: float64(2), int64(14), object(14)\n",
      "memory usage: 479.0+ KB\n"
     ]
    }
   ],
   "source": [
    "df.info()"
   ]
  },
  {
   "cell_type": "code",
   "execution_count": 12,
   "id": "7ffa92f5",
   "metadata": {},
   "outputs": [
    {
     "data": {
      "text/html": [
       "<div>\n",
       "<style scoped>\n",
       "    .dataframe tbody tr th:only-of-type {\n",
       "        vertical-align: middle;\n",
       "    }\n",
       "\n",
       "    .dataframe tbody tr th {\n",
       "        vertical-align: top;\n",
       "    }\n",
       "\n",
       "    .dataframe thead th {\n",
       "        text-align: right;\n",
       "    }\n",
       "</style>\n",
       "<table border=\"1\" class=\"dataframe\">\n",
       "  <thead>\n",
       "    <tr style=\"text-align: right;\">\n",
       "      <th></th>\n",
       "      <th>Accident_Index</th>\n",
       "      <th>Location_Easting_OSGR</th>\n",
       "      <th>Location_Northing_OSGR</th>\n",
       "      <th>Longitude</th>\n",
       "      <th>Latitude</th>\n",
       "      <th>Police_Force</th>\n",
       "      <th>Accident_Severity</th>\n",
       "      <th>Number_of_Vehicles</th>\n",
       "      <th>Number_of_Casualties</th>\n",
       "      <th>Date</th>\n",
       "      <th>...</th>\n",
       "      <th>Pedestrian_Crossing-Human_Control</th>\n",
       "      <th>Pedestrian_Crossing-Physical_Facilities</th>\n",
       "      <th>Light_Conditions</th>\n",
       "      <th>Weather_Conditions</th>\n",
       "      <th>Road_Surface_Conditions</th>\n",
       "      <th>Urban_or_Rural_Area</th>\n",
       "      <th>Did_Police_Officer_Attend_Scene_of_Accident</th>\n",
       "      <th>LSOA_of_Accident_Location</th>\n",
       "      <th>Year</th>\n",
       "      <th>index</th>\n",
       "    </tr>\n",
       "  </thead>\n",
       "  <tbody>\n",
       "    <tr>\n",
       "      <th>0</th>\n",
       "      <td>201201BS70001</td>\n",
       "      <td>527200</td>\n",
       "      <td>178760</td>\n",
       "      <td>-0.169101</td>\n",
       "      <td>51.493429</td>\n",
       "      <td>1</td>\n",
       "      <td>3</td>\n",
       "      <td>2</td>\n",
       "      <td>1</td>\n",
       "      <td>19/01/2012</td>\n",
       "      <td>...</td>\n",
       "      <td>None within 50 metres</td>\n",
       "      <td>Pedestrian phase at traffic signal junction</td>\n",
       "      <td>Darkness: Street lights present and lit</td>\n",
       "      <td>Fine without high winds</td>\n",
       "      <td>Dry</td>\n",
       "      <td>1</td>\n",
       "      <td>Yes</td>\n",
       "      <td>E01002821</td>\n",
       "      <td>2012</td>\n",
       "      <td>1</td>\n",
       "    </tr>\n",
       "    <tr>\n",
       "      <th>1</th>\n",
       "      <td>201201BS70002</td>\n",
       "      <td>524930</td>\n",
       "      <td>181430</td>\n",
       "      <td>-0.200838</td>\n",
       "      <td>51.517931</td>\n",
       "      <td>1</td>\n",
       "      <td>3</td>\n",
       "      <td>2</td>\n",
       "      <td>1</td>\n",
       "      <td>4/1/2012</td>\n",
       "      <td>...</td>\n",
       "      <td>None within 50 metres</td>\n",
       "      <td>No physical crossing within 50 meters</td>\n",
       "      <td>Darkness: Street lights present and lit</td>\n",
       "      <td>Fine without high winds</td>\n",
       "      <td>Dry</td>\n",
       "      <td>1</td>\n",
       "      <td>Yes</td>\n",
       "      <td>E01004760</td>\n",
       "      <td>2012</td>\n",
       "      <td>2</td>\n",
       "    </tr>\n",
       "    <tr>\n",
       "      <th>2</th>\n",
       "      <td>201201BS70003</td>\n",
       "      <td>525860</td>\n",
       "      <td>178080</td>\n",
       "      <td>-0.188636</td>\n",
       "      <td>51.487618</td>\n",
       "      <td>1</td>\n",
       "      <td>3</td>\n",
       "      <td>2</td>\n",
       "      <td>1</td>\n",
       "      <td>10/1/2012</td>\n",
       "      <td>...</td>\n",
       "      <td>None within 50 metres</td>\n",
       "      <td>non-junction pedestrian crossing</td>\n",
       "      <td>Daylight: Street light present</td>\n",
       "      <td>Fine without high winds</td>\n",
       "      <td>Dry</td>\n",
       "      <td>1</td>\n",
       "      <td>Yes</td>\n",
       "      <td>E01002893</td>\n",
       "      <td>2012</td>\n",
       "      <td>3</td>\n",
       "    </tr>\n",
       "    <tr>\n",
       "      <th>3</th>\n",
       "      <td>201201BS70004</td>\n",
       "      <td>524980</td>\n",
       "      <td>181030</td>\n",
       "      <td>-0.200259</td>\n",
       "      <td>51.514325</td>\n",
       "      <td>1</td>\n",
       "      <td>3</td>\n",
       "      <td>1</td>\n",
       "      <td>1</td>\n",
       "      <td>18/01/2012</td>\n",
       "      <td>...</td>\n",
       "      <td>None within 50 metres</td>\n",
       "      <td>No physical crossing within 50 meters</td>\n",
       "      <td>Daylight: Street light present</td>\n",
       "      <td>Fine without high winds</td>\n",
       "      <td>Dry</td>\n",
       "      <td>1</td>\n",
       "      <td>Yes</td>\n",
       "      <td>E01002886</td>\n",
       "      <td>2012</td>\n",
       "      <td>4</td>\n",
       "    </tr>\n",
       "    <tr>\n",
       "      <th>4</th>\n",
       "      <td>201201BS70005</td>\n",
       "      <td>526170</td>\n",
       "      <td>179200</td>\n",
       "      <td>-0.183773</td>\n",
       "      <td>51.497614</td>\n",
       "      <td>1</td>\n",
       "      <td>3</td>\n",
       "      <td>1</td>\n",
       "      <td>1</td>\n",
       "      <td>17/01/2012</td>\n",
       "      <td>...</td>\n",
       "      <td>None within 50 metres</td>\n",
       "      <td>No physical crossing within 50 meters</td>\n",
       "      <td>Darkness: Street lights present and lit</td>\n",
       "      <td>Fine without high winds</td>\n",
       "      <td>Dry</td>\n",
       "      <td>1</td>\n",
       "      <td>Yes</td>\n",
       "      <td>E01002890</td>\n",
       "      <td>2012</td>\n",
       "      <td>5</td>\n",
       "    </tr>\n",
       "  </tbody>\n",
       "</table>\n",
       "<p>5 rows × 31 columns</p>\n",
       "</div>"
      ],
      "text/plain": [
       "  Accident_Index  Location_Easting_OSGR  Location_Northing_OSGR  Longitude  \\\n",
       "0  201201BS70001                 527200                  178760  -0.169101   \n",
       "1  201201BS70002                 524930                  181430  -0.200838   \n",
       "2  201201BS70003                 525860                  178080  -0.188636   \n",
       "3  201201BS70004                 524980                  181030  -0.200259   \n",
       "4  201201BS70005                 526170                  179200  -0.183773   \n",
       "\n",
       "    Latitude  Police_Force  Accident_Severity  Number_of_Vehicles  \\\n",
       "0  51.493429             1                  3                   2   \n",
       "1  51.517931             1                  3                   2   \n",
       "2  51.487618             1                  3                   2   \n",
       "3  51.514325             1                  3                   1   \n",
       "4  51.497614             1                  3                   1   \n",
       "\n",
       "   Number_of_Casualties        Date  ... Pedestrian_Crossing-Human_Control  \\\n",
       "0                     1  19/01/2012  ...             None within 50 metres   \n",
       "1                     1    4/1/2012  ...             None within 50 metres   \n",
       "2                     1   10/1/2012  ...             None within 50 metres   \n",
       "3                     1  18/01/2012  ...             None within 50 metres   \n",
       "4                     1  17/01/2012  ...             None within 50 metres   \n",
       "\n",
       "       Pedestrian_Crossing-Physical_Facilities  \\\n",
       "0  Pedestrian phase at traffic signal junction   \n",
       "1        No physical crossing within 50 meters   \n",
       "2             non-junction pedestrian crossing   \n",
       "3        No physical crossing within 50 meters   \n",
       "4        No physical crossing within 50 meters   \n",
       "\n",
       "                          Light_Conditions       Weather_Conditions  \\\n",
       "0  Darkness: Street lights present and lit  Fine without high winds   \n",
       "1  Darkness: Street lights present and lit  Fine without high winds   \n",
       "2           Daylight: Street light present  Fine without high winds   \n",
       "3           Daylight: Street light present  Fine without high winds   \n",
       "4  Darkness: Street lights present and lit  Fine without high winds   \n",
       "\n",
       "   Road_Surface_Conditions  Urban_or_Rural_Area  \\\n",
       "0                      Dry                    1   \n",
       "1                      Dry                    1   \n",
       "2                      Dry                    1   \n",
       "3                      Dry                    1   \n",
       "4                      Dry                    1   \n",
       "\n",
       "  Did_Police_Officer_Attend_Scene_of_Accident  LSOA_of_Accident_Location  \\\n",
       "0                                         Yes                  E01002821   \n",
       "1                                         Yes                  E01004760   \n",
       "2                                         Yes                  E01002893   \n",
       "3                                         Yes                  E01002886   \n",
       "4                                         Yes                  E01002890   \n",
       "\n",
       "   Year  index  \n",
       "0  2012      1  \n",
       "1  2012      2  \n",
       "2  2012      3  \n",
       "3  2012      4  \n",
       "4  2012      5  \n",
       "\n",
       "[5 rows x 31 columns]"
      ]
     },
     "execution_count": 12,
     "metadata": {},
     "output_type": "execute_result"
    }
   ],
   "source": [
    "df['index']=df.index +1\n",
    "df.head()"
   ]
  },
  {
   "cell_type": "code",
   "execution_count": 13,
   "id": "fbcfedfa",
   "metadata": {},
   "outputs": [
    {
     "data": {
      "text/html": [
       "<div>\n",
       "<style scoped>\n",
       "    .dataframe tbody tr th:only-of-type {\n",
       "        vertical-align: middle;\n",
       "    }\n",
       "\n",
       "    .dataframe tbody tr th {\n",
       "        vertical-align: top;\n",
       "    }\n",
       "\n",
       "    .dataframe thead th {\n",
       "        text-align: right;\n",
       "    }\n",
       "</style>\n",
       "<table border=\"1\" class=\"dataframe\">\n",
       "  <thead>\n",
       "    <tr style=\"text-align: right;\">\n",
       "      <th>Road_Type</th>\n",
       "      <th>Dual Crg-way</th>\n",
       "      <th>One way strt</th>\n",
       "      <th>Round-about</th>\n",
       "      <th>Single Crg-way</th>\n",
       "      <th>Slip road</th>\n",
       "    </tr>\n",
       "  </thead>\n",
       "  <tbody>\n",
       "    <tr>\n",
       "      <th>index</th>\n",
       "      <td>196</td>\n",
       "      <td>88</td>\n",
       "      <td>38</td>\n",
       "      <td>1719</td>\n",
       "      <td>2</td>\n",
       "    </tr>\n",
       "  </tbody>\n",
       "</table>\n",
       "</div>"
      ],
      "text/plain": [
       "Road_Type  Dual Crg-way  One way strt  Round-about  Single Crg-way  Slip road\n",
       "index               196            88           38            1719          2"
      ]
     },
     "execution_count": 13,
     "metadata": {},
     "output_type": "execute_result"
    }
   ],
   "source": [
    "df.pivot_table(columns=\"Road_Type\",values=\"index\",aggfunc=\"count\")\n"
   ]
  },
  {
   "cell_type": "code",
   "execution_count": 14,
   "id": "94471b97",
   "metadata": {},
   "outputs": [
    {
     "data": {
      "text/html": [
       "<div>\n",
       "<style scoped>\n",
       "    .dataframe tbody tr th:only-of-type {\n",
       "        vertical-align: middle;\n",
       "    }\n",
       "\n",
       "    .dataframe tbody tr th {\n",
       "        vertical-align: top;\n",
       "    }\n",
       "\n",
       "    .dataframe thead th {\n",
       "        text-align: right;\n",
       "    }\n",
       "</style>\n",
       "<table border=\"1\" class=\"dataframe\">\n",
       "  <thead>\n",
       "    <tr style=\"text-align: right;\">\n",
       "      <th>Speed_limit</th>\n",
       "      <th>20</th>\n",
       "      <th>30</th>\n",
       "      <th>40</th>\n",
       "      <th>50</th>\n",
       "      <th>70</th>\n",
       "    </tr>\n",
       "  </thead>\n",
       "  <tbody>\n",
       "    <tr>\n",
       "      <th>index</th>\n",
       "      <td>5</td>\n",
       "      <td>2003</td>\n",
       "      <td>16</td>\n",
       "      <td>16</td>\n",
       "      <td>3</td>\n",
       "    </tr>\n",
       "  </tbody>\n",
       "</table>\n",
       "</div>"
      ],
      "text/plain": [
       "Speed_limit  20    30  40  50  70\n",
       "index         5  2003  16  16   3"
      ]
     },
     "execution_count": 14,
     "metadata": {},
     "output_type": "execute_result"
    }
   ],
   "source": [
    "df.pivot_table(columns=\"Speed_limit\",values=\"index\",aggfunc=\"count\")\n"
   ]
  },
  {
   "cell_type": "code",
   "execution_count": 15,
   "id": "b3fb7580",
   "metadata": {},
   "outputs": [
    {
     "data": {
      "text/html": [
       "<div>\n",
       "<style scoped>\n",
       "    .dataframe tbody tr th:only-of-type {\n",
       "        vertical-align: middle;\n",
       "    }\n",
       "\n",
       "    .dataframe tbody tr th {\n",
       "        vertical-align: top;\n",
       "    }\n",
       "\n",
       "    .dataframe thead tr th {\n",
       "        text-align: left;\n",
       "    }\n",
       "</style>\n",
       "<table border=\"1\" class=\"dataframe\">\n",
       "  <thead>\n",
       "    <tr>\n",
       "      <th>Road_Type</th>\n",
       "      <th colspan=\"5\" halign=\"left\">Dual Crg-way</th>\n",
       "      <th colspan=\"3\" halign=\"left\">One way strt</th>\n",
       "      <th colspan=\"2\" halign=\"left\">Round-about</th>\n",
       "      <th colspan=\"7\" halign=\"left\">Single Crg-way</th>\n",
       "      <th>Slip road</th>\n",
       "    </tr>\n",
       "    <tr>\n",
       "      <th>Weather_Conditions</th>\n",
       "      <th>Fine with high winds</th>\n",
       "      <th>Fine without high winds</th>\n",
       "      <th>Raining with high winds</th>\n",
       "      <th>Raining without high winds</th>\n",
       "      <th>Snowing without high winds</th>\n",
       "      <th>Fine without high winds</th>\n",
       "      <th>Other</th>\n",
       "      <th>Raining without high winds</th>\n",
       "      <th>Fine without high winds</th>\n",
       "      <th>Raining without high winds</th>\n",
       "      <th>Fine with high winds</th>\n",
       "      <th>Fine without high winds</th>\n",
       "      <th>Other</th>\n",
       "      <th>Raining with high winds</th>\n",
       "      <th>Raining without high winds</th>\n",
       "      <th>Snowing without high winds</th>\n",
       "      <th>Unknown</th>\n",
       "      <th>Fine without high winds</th>\n",
       "    </tr>\n",
       "  </thead>\n",
       "  <tbody>\n",
       "    <tr>\n",
       "      <th>index</th>\n",
       "      <td>2</td>\n",
       "      <td>178</td>\n",
       "      <td>3</td>\n",
       "      <td>12</td>\n",
       "      <td>1</td>\n",
       "      <td>76</td>\n",
       "      <td>4</td>\n",
       "      <td>8</td>\n",
       "      <td>32</td>\n",
       "      <td>6</td>\n",
       "      <td>11</td>\n",
       "      <td>1512</td>\n",
       "      <td>16</td>\n",
       "      <td>7</td>\n",
       "      <td>162</td>\n",
       "      <td>6</td>\n",
       "      <td>5</td>\n",
       "      <td>2</td>\n",
       "    </tr>\n",
       "  </tbody>\n",
       "</table>\n",
       "</div>"
      ],
      "text/plain": [
       "Road_Type                  Dual Crg-way                          \\\n",
       "Weather_Conditions Fine with high winds Fine without high winds   \n",
       "index                                 2                     178   \n",
       "\n",
       "Road_Type                                                              \\\n",
       "Weather_Conditions Raining with high winds Raining without high winds   \n",
       "index                                    3                         12   \n",
       "\n",
       "Road_Type                                                One way strt        \\\n",
       "Weather_Conditions Snowing without high winds Fine without high winds Other   \n",
       "index                                       1                      76     4   \n",
       "\n",
       "Road_Type                                                 Round-about  \\\n",
       "Weather_Conditions Raining without high winds Fine without high winds   \n",
       "index                                       8                      32   \n",
       "\n",
       "Road_Type                                           Single Crg-way  \\\n",
       "Weather_Conditions Raining without high winds Fine with high winds   \n",
       "index                                       6                   11   \n",
       "\n",
       "Road_Type                                                                 \\\n",
       "Weather_Conditions Fine without high winds Other Raining with high winds   \n",
       "index                                 1512    16                       7   \n",
       "\n",
       "Road_Type                                                                 \\\n",
       "Weather_Conditions Raining without high winds Snowing without high winds   \n",
       "index                                     162                          6   \n",
       "\n",
       "Road_Type                                Slip road  \n",
       "Weather_Conditions Unknown Fine without high winds  \n",
       "index                    5                       2  "
      ]
     },
     "execution_count": 15,
     "metadata": {},
     "output_type": "execute_result"
    }
   ],
   "source": [
    "df.pivot_table(columns=[\"Road_Type\",\"Weather_Conditions\"],values=\"index\",aggfunc=\"count\")\n"
   ]
  },
  {
   "cell_type": "code",
   "execution_count": 16,
   "id": "f0f522e7",
   "metadata": {},
   "outputs": [
    {
     "data": {
      "text/html": [
       "<div>\n",
       "<style scoped>\n",
       "    .dataframe tbody tr th:only-of-type {\n",
       "        vertical-align: middle;\n",
       "    }\n",
       "\n",
       "    .dataframe tbody tr th {\n",
       "        vertical-align: top;\n",
       "    }\n",
       "\n",
       "    .dataframe thead th {\n",
       "        text-align: right;\n",
       "    }\n",
       "</style>\n",
       "<table border=\"1\" class=\"dataframe\">\n",
       "  <thead>\n",
       "    <tr style=\"text-align: right;\">\n",
       "      <th>Urban_or_Rural_Area</th>\n",
       "      <th>1</th>\n",
       "      <th>2</th>\n",
       "    </tr>\n",
       "  </thead>\n",
       "  <tbody>\n",
       "    <tr>\n",
       "      <th>index</th>\n",
       "      <td>2007</td>\n",
       "      <td>36</td>\n",
       "    </tr>\n",
       "  </tbody>\n",
       "</table>\n",
       "</div>"
      ],
      "text/plain": [
       "Urban_or_Rural_Area     1   2\n",
       "index                2007  36"
      ]
     },
     "execution_count": 16,
     "metadata": {},
     "output_type": "execute_result"
    }
   ],
   "source": [
    "df.pivot_table(columns=\"Urban_or_Rural_Area\",values=\"index\",aggfunc=\"count\")\n"
   ]
  },
  {
   "cell_type": "code",
   "execution_count": 17,
   "id": "fd453fee",
   "metadata": {},
   "outputs": [
    {
     "data": {
      "text/html": [
       "<div>\n",
       "<style scoped>\n",
       "    .dataframe tbody tr th:only-of-type {\n",
       "        vertical-align: middle;\n",
       "    }\n",
       "\n",
       "    .dataframe tbody tr th {\n",
       "        vertical-align: top;\n",
       "    }\n",
       "\n",
       "    .dataframe thead th {\n",
       "        text-align: right;\n",
       "    }\n",
       "</style>\n",
       "<table border=\"1\" class=\"dataframe\">\n",
       "  <thead>\n",
       "    <tr style=\"text-align: right;\">\n",
       "      <th>Light_Conditions</th>\n",
       "      <th>Darkeness: No street lighting</th>\n",
       "      <th>Darkness: Street lighting unknown</th>\n",
       "      <th>Darkness: Street lights present and lit</th>\n",
       "      <th>Darkness: Street lights present but unlit</th>\n",
       "      <th>Daylight: Street light present</th>\n",
       "    </tr>\n",
       "  </thead>\n",
       "  <tbody>\n",
       "    <tr>\n",
       "      <th>index</th>\n",
       "      <td>1</td>\n",
       "      <td>4</td>\n",
       "      <td>580</td>\n",
       "      <td>9</td>\n",
       "      <td>1449</td>\n",
       "    </tr>\n",
       "  </tbody>\n",
       "</table>\n",
       "</div>"
      ],
      "text/plain": [
       "Light_Conditions  Darkeness: No street lighting  \\\n",
       "index                                         1   \n",
       "\n",
       "Light_Conditions  Darkness: Street lighting unknown  \\\n",
       "index                                             4   \n",
       "\n",
       "Light_Conditions  Darkness: Street lights present and lit  \\\n",
       "index                                                 580   \n",
       "\n",
       "Light_Conditions  Darkness: Street lights present but unlit  \\\n",
       "index                                                     9   \n",
       "\n",
       "Light_Conditions  Daylight: Street light present  \n",
       "index                                       1449  "
      ]
     },
     "execution_count": 17,
     "metadata": {},
     "output_type": "execute_result"
    }
   ],
   "source": [
    "df.pivot_table(columns=\"Light_Conditions\",values=\"index\",aggfunc=\"count\")\n"
   ]
  },
  {
   "cell_type": "code",
   "execution_count": 18,
   "id": "5bde69a1",
   "metadata": {},
   "outputs": [
    {
     "data": {
      "text/html": [
       "<div>\n",
       "<style scoped>\n",
       "    .dataframe tbody tr th:only-of-type {\n",
       "        vertical-align: middle;\n",
       "    }\n",
       "\n",
       "    .dataframe tbody tr th {\n",
       "        vertical-align: top;\n",
       "    }\n",
       "\n",
       "    .dataframe thead tr th {\n",
       "        text-align: left;\n",
       "    }\n",
       "</style>\n",
       "<table border=\"1\" class=\"dataframe\">\n",
       "  <thead>\n",
       "    <tr>\n",
       "      <th>Speed_limit</th>\n",
       "      <th colspan=\"2\" halign=\"left\">20</th>\n",
       "      <th colspan=\"5\" halign=\"left\">30</th>\n",
       "      <th colspan=\"2\" halign=\"left\">40</th>\n",
       "      <th>50</th>\n",
       "      <th>70</th>\n",
       "    </tr>\n",
       "    <tr>\n",
       "      <th>Road_Type</th>\n",
       "      <th>One way strt</th>\n",
       "      <th>Single Crg-way</th>\n",
       "      <th>Dual Crg-way</th>\n",
       "      <th>One way strt</th>\n",
       "      <th>Round-about</th>\n",
       "      <th>Single Crg-way</th>\n",
       "      <th>Slip road</th>\n",
       "      <th>Dual Crg-way</th>\n",
       "      <th>Single Crg-way</th>\n",
       "      <th>Dual Crg-way</th>\n",
       "      <th>Dual Crg-way</th>\n",
       "    </tr>\n",
       "  </thead>\n",
       "  <tbody>\n",
       "    <tr>\n",
       "      <th>index</th>\n",
       "      <td>2</td>\n",
       "      <td>3</td>\n",
       "      <td>162</td>\n",
       "      <td>86</td>\n",
       "      <td>38</td>\n",
       "      <td>1715</td>\n",
       "      <td>2</td>\n",
       "      <td>15</td>\n",
       "      <td>1</td>\n",
       "      <td>16</td>\n",
       "      <td>3</td>\n",
       "    </tr>\n",
       "  </tbody>\n",
       "</table>\n",
       "</div>"
      ],
      "text/plain": [
       "Speed_limit           20                          30                           \\\n",
       "Road_Type   One way strt Single Crg-way Dual Crg-way One way strt Round-about   \n",
       "index                  2              3          162           86          38   \n",
       "\n",
       "Speed_limit                                    40                          50  \\\n",
       "Road_Type   Single Crg-way Slip road Dual Crg-way Single Crg-way Dual Crg-way   \n",
       "index                 1715         2           15              1           16   \n",
       "\n",
       "Speed_limit           70  \n",
       "Road_Type   Dual Crg-way  \n",
       "index                  3  "
      ]
     },
     "execution_count": 18,
     "metadata": {},
     "output_type": "execute_result"
    }
   ],
   "source": [
    "df.pivot_table(columns=[\"Speed_limit\",\"Road_Type\"],values=\"index\",aggfunc=\"count\")\n"
   ]
  },
  {
   "cell_type": "code",
   "execution_count": 19,
   "id": "c6c77e01",
   "metadata": {},
   "outputs": [
    {
     "data": {
      "text/html": [
       "<div>\n",
       "<style scoped>\n",
       "    .dataframe tbody tr th:only-of-type {\n",
       "        vertical-align: middle;\n",
       "    }\n",
       "\n",
       "    .dataframe tbody tr th {\n",
       "        vertical-align: top;\n",
       "    }\n",
       "\n",
       "    .dataframe thead tr th {\n",
       "        text-align: left;\n",
       "    }\n",
       "</style>\n",
       "<table border=\"1\" class=\"dataframe\">\n",
       "  <thead>\n",
       "    <tr>\n",
       "      <th>Road_Surface_Conditions</th>\n",
       "      <th colspan=\"5\" halign=\"left\">Dry</th>\n",
       "      <th colspan=\"3\" halign=\"left\">Frost/Ice</th>\n",
       "      <th colspan=\"2\" halign=\"left\">Snow</th>\n",
       "      <th colspan=\"4\" halign=\"left\">Wet/Damp</th>\n",
       "    </tr>\n",
       "    <tr>\n",
       "      <th>Road_Type</th>\n",
       "      <th>Dual Crg-way</th>\n",
       "      <th>One way strt</th>\n",
       "      <th>Round-about</th>\n",
       "      <th>Single Crg-way</th>\n",
       "      <th>Slip road</th>\n",
       "      <th>Dual Crg-way</th>\n",
       "      <th>One way strt</th>\n",
       "      <th>Single Crg-way</th>\n",
       "      <th>Dual Crg-way</th>\n",
       "      <th>Single Crg-way</th>\n",
       "      <th>Dual Crg-way</th>\n",
       "      <th>One way strt</th>\n",
       "      <th>Round-about</th>\n",
       "      <th>Single Crg-way</th>\n",
       "    </tr>\n",
       "  </thead>\n",
       "  <tbody>\n",
       "    <tr>\n",
       "      <th>index</th>\n",
       "      <td>163</td>\n",
       "      <td>77</td>\n",
       "      <td>31</td>\n",
       "      <td>1446</td>\n",
       "      <td>2</td>\n",
       "      <td>1</td>\n",
       "      <td>2</td>\n",
       "      <td>4</td>\n",
       "      <td>1</td>\n",
       "      <td>4</td>\n",
       "      <td>31</td>\n",
       "      <td>9</td>\n",
       "      <td>7</td>\n",
       "      <td>265</td>\n",
       "    </tr>\n",
       "  </tbody>\n",
       "</table>\n",
       "</div>"
      ],
      "text/plain": [
       "Road_Surface_Conditions          Dry                                          \\\n",
       "Road_Type               Dual Crg-way One way strt Round-about Single Crg-way   \n",
       "index                            163           77          31           1446   \n",
       "\n",
       "Road_Surface_Conditions              Frost/Ice                              \\\n",
       "Road_Type               Slip road Dual Crg-way One way strt Single Crg-way   \n",
       "index                           2            1            2              4   \n",
       "\n",
       "Road_Surface_Conditions         Snow                    Wet/Damp               \\\n",
       "Road_Type               Dual Crg-way Single Crg-way Dual Crg-way One way strt   \n",
       "index                              1              4           31            9   \n",
       "\n",
       "Road_Surface_Conditions                             \n",
       "Road_Type               Round-about Single Crg-way  \n",
       "index                             7            265  "
      ]
     },
     "execution_count": 19,
     "metadata": {},
     "output_type": "execute_result"
    }
   ],
   "source": [
    "df.pivot_table(columns=[\"Road_Surface_Conditions\",\"Road_Type\"],values=\"index\",aggfunc=\"count\")\n"
   ]
  },
  {
   "cell_type": "code",
   "execution_count": 20,
   "id": "e3cf31ae",
   "metadata": {},
   "outputs": [
    {
     "data": {
      "image/png": "[encoded data removed]",
      "text/plain": [
       "<Figure size 640x480 with 1 Axes>"
      ]
     },
     "metadata": {},
     "output_type": "display_data"
    }
   ],
   "source": [
    "x=df.index\n",
    "y=df.Road_Type\n",
    "plt.title(\"Road type\")\n",
    "plt.ylabel(\"No of Accidents\")\n",
    "\n",
    "plt.hist(y)\n",
    "plt.show()"
   ]
  },
  {
   "cell_type": "code",
   "execution_count": 21,
   "id": "8ade4170",
   "metadata": {},
   "outputs": [
    {
     "data": {
      "text/plain": [
       "<Axes: xlabel='Road_Type', ylabel='count'>"
      ]
     },
     "execution_count": 21,
     "metadata": {},
     "output_type": "execute_result"
    },
    {
     "data": {
      "image/png": "[encoded data removed]",
      "text/plain": [
       "<Figure size 640x480 with 1 Axes>"
      ]
     },
     "metadata": {},
     "output_type": "display_data"
    }
   ],
   "source": [
    "sns.countplot(x=\"Road_Type\",data=df)\n"
   ]
  },
  {
   "cell_type": "code",
   "execution_count": 22,
   "id": "1978ba2f",
   "metadata": {},
   "outputs": [
    {
     "data": {
      "text/plain": [
       "<Axes: xlabel='Road_Surface_Conditions', ylabel='count'>"
      ]
     },
     "execution_count": 22,
     "metadata": {},
     "output_type": "execute_result"
    },
    {
     "data": {
      "image/png": "[encoded data removed]",
      "text/plain": [
       "<Figure size 640x480 with 1 Axes>"
      ]
     },
     "metadata": {},
     "output_type": "display_data"
    }
   ],
   "source": [
    "sns.countplot(x=\"Road_Surface_Conditions\",data=df)\n"
   ]
  },
  {
   "cell_type": "code",
   "execution_count": 23,
   "id": "1f73eb78",
   "metadata": {},
   "outputs": [
    {
     "data": {
      "text/plain": [
       "<Axes: xlabel='Speed_limit', ylabel='count'>"
      ]
     },
     "execution_count": 23,
     "metadata": {},
     "output_type": "execute_result"
    },
    {
     "data": {
      "image/png": "[encoded data removed]",
      "text/plain": [
       "<Figure size 640x480 with 1 Axes>"
      ]
     },
     "metadata": {},
     "output_type": "display_data"
    }
   ],
   "source": [
    "sns.countplot(x=\"Speed_limit\",data=df)\n"
   ]
  },
  {
   "cell_type": "code",
   "execution_count": 24,
   "id": "8f52fd3f",
   "metadata": {},
   "outputs": [
    {
     "data": {
      "text/plain": [
       "<Axes: xlabel='Urban_or_Rural_Area', ylabel='count'>"
      ]
     },
     "execution_count": 24,
     "metadata": {},
     "output_type": "execute_result"
    },
    {
     "data": {
      "image/png": "[encoded data removed]",
      "text/plain": [
       "<Figure size 640x480 with 1 Axes>"
      ]
     },
     "metadata": {},
     "output_type": "display_data"
    }
   ],
   "source": [
    "sns.countplot(x=\"Urban_or_Rural_Area\",data=df )\n"
   ]
  },
  {
   "cell_type": "code",
   "execution_count": 25,
   "id": "93c43fa4",
   "metadata": {},
   "outputs": [
    {
     "data": {
      "image/png": "[encoded data removed]",
      "text/plain": [
       "<Figure size 1500x500 with 3 Axes>"
      ]
     },
     "metadata": {},
     "output_type": "display_data"
    }
   ],
   "source": [
    "plt.figure(figsize=(15,5))\n",
    "plt.subplot(2,2,1)\n",
    "sns.countplot(x=\"Speed_limit\",data=df)\n",
    "plt.subplot(2,2,2)\n",
    "sns.countplot(x=\"Road_Surface_Conditions\",data=df)\n",
    "plt.subplot(2,2,3)\n",
    "sns.countplot(x=\"Road_Type\",data=df)\n",
    "plt.show()"
   ]
  },
  {
   "cell_type": "code",
   "execution_count": 26,
   "id": "2e0fb32e",
   "metadata": {},
   "outputs": [
    {
     "data": {
      "text/plain": [
       "<Axes: xlabel='Road_Surface_Conditions', ylabel='count'>"
      ]
     },
     "execution_count": 26,
     "metadata": {},
     "output_type": "execute_result"
    },
    {
     "data": {
      "image/png": "[encoded data removed]",
      "text/plain": [
       "<Figure size 1500x500 with 2 Axes>"
      ]
     },
     "metadata": {},
     "output_type": "display_data"
    }
   ],
   "source": [
    "plt.figure(figsize=(15,5))\n",
    "plt.subplot(1,2,1)\n",
    "sns.countplot(x=\"Road_Type\",data=df)\n",
    "plt.subplot(1,2,2)\n",
    "sns.countplot(x=\"Road_Surface_Conditions\",data=df)"
   ]
  },
  {
   "cell_type": "code",
   "execution_count": 27,
   "id": "e8d0b3ad",
   "metadata": {},
   "outputs": [
    {
     "data": {
      "text/plain": [
       "Police_Force\n",
       "1     1675\n",
       "48     368\n",
       "Name: count, dtype: int64"
      ]
     },
     "execution_count": 27,
     "metadata": {},
     "output_type": "execute_result"
    }
   ],
   "source": [
    "df['Police_Force'].value_counts()"
   ]
  },
  {
   "cell_type": "code",
   "execution_count": 28,
   "id": "7f771e18",
   "metadata": {},
   "outputs": [
    {
     "data": {
      "text/plain": [
       "(2043, 31)"
      ]
     },
     "execution_count": 28,
     "metadata": {},
     "output_type": "execute_result"
    }
   ],
   "source": [
    "df.shape"
   ]
  },
  {
   "cell_type": "code",
   "execution_count": 29,
   "id": "cea91cb1",
   "metadata": {},
   "outputs": [],
   "source": [
    "df.loc[df['Police_Force'] == 1, 'police_report'] = 1 \n",
    "df.loc[df['Police_Force'] == 48, 'police_report'] = 0 "
   ]
  },
  {
   "cell_type": "code",
   "execution_count": 30,
   "id": "35360038",
   "metadata": {},
   "outputs": [
    {
     "data": {
      "text/plain": [
       "police_report\n",
       "1    1675\n",
       "0     368\n",
       "Name: count, dtype: int64"
      ]
     },
     "execution_count": 30,
     "metadata": {},
     "output_type": "execute_result"
    }
   ],
   "source": [
    "df = df.astype({'police_report':'int'})\n",
    "df['police_report'].value_counts()"
   ]
  },
  {
   "cell_type": "code",
   "execution_count": 31,
   "id": "988e9eed",
   "metadata": {},
   "outputs": [
    {
     "data": {
      "text/plain": [
       "<Axes: xlabel='police_report', ylabel='count'>"
      ]
     },
     "execution_count": 31,
     "metadata": {},
     "output_type": "execute_result"
    },
    {
     "data": {
      "image/png": "[encoded data removed]",
      "text/plain": [
       "<Figure size 640x480 with 1 Axes>"
      ]
     },
     "metadata": {},
     "output_type": "display_data"
    }
   ],
   "source": [
    "sns.countplot(x=df['police_report'],data=df )"
   ]
  },
  {
   "cell_type": "code",
   "execution_count": 32,
   "id": "28439e8c",
   "metadata": {},
   "outputs": [
    {
     "data": {
      "text/html": [
       "<div>\n",
       "<style scoped>\n",
       "    .dataframe tbody tr th:only-of-type {\n",
       "        vertical-align: middle;\n",
       "    }\n",
       "\n",
       "    .dataframe tbody tr th {\n",
       "        vertical-align: top;\n",
       "    }\n",
       "\n",
       "    .dataframe thead th {\n",
       "        text-align: right;\n",
       "    }\n",
       "</style>\n",
       "<table border=\"1\" class=\"dataframe\">\n",
       "  <thead>\n",
       "    <tr style=\"text-align: right;\">\n",
       "      <th></th>\n",
       "      <th>Accident_Index</th>\n",
       "      <th>Location_Easting_OSGR</th>\n",
       "      <th>Location_Northing_OSGR</th>\n",
       "      <th>Longitude</th>\n",
       "      <th>Latitude</th>\n",
       "      <th>Police_Force</th>\n",
       "      <th>Accident_Severity</th>\n",
       "      <th>Number_of_Vehicles</th>\n",
       "      <th>Number_of_Casualties</th>\n",
       "      <th>Date</th>\n",
       "      <th>...</th>\n",
       "      <th>Pedestrian_Crossing-Physical_Facilities</th>\n",
       "      <th>Light_Conditions</th>\n",
       "      <th>Weather_Conditions</th>\n",
       "      <th>Road_Surface_Conditions</th>\n",
       "      <th>Urban_or_Rural_Area</th>\n",
       "      <th>Did_Police_Officer_Attend_Scene_of_Accident</th>\n",
       "      <th>LSOA_of_Accident_Location</th>\n",
       "      <th>Year</th>\n",
       "      <th>index</th>\n",
       "      <th>police_report</th>\n",
       "    </tr>\n",
       "  </thead>\n",
       "  <tbody>\n",
       "    <tr>\n",
       "      <th>0</th>\n",
       "      <td>201201BS70001</td>\n",
       "      <td>527200</td>\n",
       "      <td>178760</td>\n",
       "      <td>-0.169101</td>\n",
       "      <td>51.493429</td>\n",
       "      <td>1</td>\n",
       "      <td>3</td>\n",
       "      <td>2</td>\n",
       "      <td>1</td>\n",
       "      <td>19/01/2012</td>\n",
       "      <td>...</td>\n",
       "      <td>Pedestrian phase at traffic signal junction</td>\n",
       "      <td>Darkness: Street lights present and lit</td>\n",
       "      <td>Fine without high winds</td>\n",
       "      <td>Dry</td>\n",
       "      <td>1</td>\n",
       "      <td>Yes</td>\n",
       "      <td>E01002821</td>\n",
       "      <td>2012</td>\n",
       "      <td>1</td>\n",
       "      <td>1</td>\n",
       "    </tr>\n",
       "    <tr>\n",
       "      <th>1</th>\n",
       "      <td>201201BS70002</td>\n",
       "      <td>524930</td>\n",
       "      <td>181430</td>\n",
       "      <td>-0.200838</td>\n",
       "      <td>51.517931</td>\n",
       "      <td>1</td>\n",
       "      <td>3</td>\n",
       "      <td>2</td>\n",
       "      <td>1</td>\n",
       "      <td>4/1/2012</td>\n",
       "      <td>...</td>\n",
       "      <td>No physical crossing within 50 meters</td>\n",
       "      <td>Darkness: Street lights present and lit</td>\n",
       "      <td>Fine without high winds</td>\n",
       "      <td>Dry</td>\n",
       "      <td>1</td>\n",
       "      <td>Yes</td>\n",
       "      <td>E01004760</td>\n",
       "      <td>2012</td>\n",
       "      <td>2</td>\n",
       "      <td>1</td>\n",
       "    </tr>\n",
       "  </tbody>\n",
       "</table>\n",
       "<p>2 rows × 32 columns</p>\n",
       "</div>"
      ],
      "text/plain": [
       "  Accident_Index  Location_Easting_OSGR  Location_Northing_OSGR  Longitude  \\\n",
       "0  201201BS70001                 527200                  178760  -0.169101   \n",
       "1  201201BS70002                 524930                  181430  -0.200838   \n",
       "\n",
       "    Latitude  Police_Force  Accident_Severity  Number_of_Vehicles  \\\n",
       "0  51.493429             1                  3                   2   \n",
       "1  51.517931             1                  3                   2   \n",
       "\n",
       "   Number_of_Casualties        Date  ...  \\\n",
       "0                     1  19/01/2012  ...   \n",
       "1                     1    4/1/2012  ...   \n",
       "\n",
       "       Pedestrian_Crossing-Physical_Facilities  \\\n",
       "0  Pedestrian phase at traffic signal junction   \n",
       "1        No physical crossing within 50 meters   \n",
       "\n",
       "                          Light_Conditions       Weather_Conditions  \\\n",
       "0  Darkness: Street lights present and lit  Fine without high winds   \n",
       "1  Darkness: Street lights present and lit  Fine without high winds   \n",
       "\n",
       "  Road_Surface_Conditions  Urban_or_Rural_Area  \\\n",
       "0                     Dry                    1   \n",
       "1                     Dry                    1   \n",
       "\n",
       "   Did_Police_Officer_Attend_Scene_of_Accident LSOA_of_Accident_Location  \\\n",
       "0                                          Yes                 E01002821   \n",
       "1                                          Yes                 E01004760   \n",
       "\n",
       "   Year index  police_report  \n",
       "0  2012     1              1  \n",
       "1  2012     2              1  \n",
       "\n",
       "[2 rows x 32 columns]"
      ]
     },
     "execution_count": 32,
     "metadata": {},
     "output_type": "execute_result"
    }
   ],
   "source": [
    "df.head(2)"
   ]
  }
 ],
 "metadata": {
  "kernelspec": {
   "display_name": "Python 3 (ipykernel)",
   "language": "python",
   "name": "python3"
  },
  "language_info": {
   "codemirror_mode": {
    "name": "ipython",
    "version": 3
   },
   "file_extension": ".py",
   "mimetype": "text/x-python",
   "name": "python",
   "nbconvert_exporter": "python",
   "pygments_lexer": "ipython3",
   "version": "3.11.5"
  }
 },
 "nbformat": 4,
 "nbformat_minor": 5
}
